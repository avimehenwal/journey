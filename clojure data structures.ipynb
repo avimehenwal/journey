{
 "cells": [
  {
   "cell_type": "code",
   "execution_count": 5,
   "metadata": {},
   "outputs": [
    {
     "data": {
      "application/octet-stream": null,
      "text/iclojure-html": [
       "<ul><li class=map>{<ul><li><ul><li class=keyword>:fname<li class=space> <li class='string'>\"avi\"<li class=trail>,</ul><li class=space> <li><ul><li class=keyword>:lname<li class=space> <li class='string'>\"mehenwal\"</ul><li class=trail>}</ul></ul>"
      ],
      "text/plain": [
       "\u001b[2m{\u001b[22m\u001b[36m:fname\u001b[m \"avi\"\u001b[2m,\u001b[22m \u001b[36m:lname\u001b[m \"mehenwal\"\u001b[2m}\u001b[22m\n"
      ]
     },
     "execution_count": 5,
     "metadata": {},
     "output_type": "execute_result"
    }
   ],
   "source": [
    "{:fname \"avi\" :lname \"mehenwal\"}"
   ]
  },
  {
   "cell_type": "markdown",
   "metadata": {},
   "source": [
    "uses Prefix Notation\n",
    "\n",
    "can use multiple arguments for the same operator"
   ]
  },
  {
   "cell_type": "code",
   "execution_count": 7,
   "metadata": {},
   "outputs": [
    {
     "data": {
      "application/octet-stream": null,
      "text/iclojure-html": [
       "<ul><li class='misc'>14</ul>"
      ],
      "text/plain": [
       "14\n"
      ]
     },
     "execution_count": 7,
     "metadata": {},
     "output_type": "execute_result"
    }
   ],
   "source": [
    "(+ 2 3 4 5)"
   ]
  },
  {
   "cell_type": "code",
   "execution_count": 8,
   "metadata": {},
   "outputs": [
    {
     "data": {
      "application/octet-stream": null,
      "text/iclojure-html": [
       "<ul><li class='misc'>nil</ul>"
      ],
      "text/plain": [
       "nil\n"
      ]
     },
     "execution_count": 8,
     "metadata": {},
     "output_type": "execute_result"
    }
   ],
   "source": [
    "(type nil)"
   ]
  },
  {
   "cell_type": "code",
   "execution_count": 11,
   "metadata": {},
   "outputs": [
    {
     "data": {
      "text/iclojure-html": [
       "<ul><li class=browsable><ul><li class=var>#'user/nums<li class=browser><li class=elision data-expr='(unrepl.repl$p8QhJwTpu2S19yqqZbyXWLOYcI8/fetch :G__864)'>…</ul></ul>"
      ],
      "text/plain": [
       "#unrepl/browsable \u001b[2m[\u001b[22m#'user/nums \u001b[4m/2\u001b[m\u001b[2m]\u001b[22m\n"
      ]
     },
     "execution_count": 11,
     "metadata": {},
     "output_type": "execute_result"
    }
   ],
   "source": [
    "(def nums [1 2 3 4 5])"
   ]
  },
  {
   "cell_type": "code",
   "execution_count": 13,
   "metadata": {},
   "outputs": [
    {
     "data": {
      "application/octet-stream": null,
      "text/iclojure-html": [
       "<ul><li class=vector>[<ul><li class='misc'>1<li class=space> <li class='misc'>2<li class=space> <li class='misc'>3<li class=space> <li class='misc'>4<li class=space> <li class='misc'>5<li class=trail>]</ul></ul>"
      ],
      "text/plain": [
       "\u001b[2m[\u001b[22m1 2 3 4 5\u001b[2m]\u001b[22m\n"
      ]
     },
     "execution_count": 13,
     "metadata": {},
     "output_type": "execute_result"
    }
   ],
   "source": [
    "user/nums"
   ]
  },
  {
   "cell_type": "code",
   "execution_count": 17,
   "metadata": {},
   "outputs": [
    {
     "data": {
      "text/iclojure-html": [
       "<ul><li class=browsable><ul><li class=var>#'user/temp-vector<li class=browser><li class=elision data-expr='(unrepl.repl$p8QhJwTpu2S19yqqZbyXWLOYcI8/fetch :G__924)'>…</ul></ul>"
      ],
      "text/plain": [
       "#unrepl/browsable \u001b[2m[\u001b[22m#'user/temp-vector \u001b[4m/4\u001b[m\u001b[2m]\u001b[22m\n"
      ]
     },
     "execution_count": 17,
     "metadata": {},
     "output_type": "execute_result"
    }
   ],
   "source": [
    "(def temp-vector (vector 1 2 3 4 5))"
   ]
  },
  {
   "cell_type": "code",
   "execution_count": 18,
   "metadata": {},
   "outputs": [
    {
     "data": {
      "text/iclojure-html": [
       "<ul><li class=browsable><ul><li class=var>#'user/temp-list<li class=browser><li class=elision data-expr='(unrepl.repl$p8QhJwTpu2S19yqqZbyXWLOYcI8/fetch :G__934)'>…</ul></ul>"
      ],
      "text/plain": [
       "#unrepl/browsable \u001b[2m[\u001b[22m#'user/temp-list \u001b[4m/5\u001b[m\u001b[2m]\u001b[22m\n"
      ]
     },
     "execution_count": 18,
     "metadata": {},
     "output_type": "execute_result"
    }
   ],
   "source": [
    "(def temp-list (list 6 7 8 9 0))"
   ]
  },
  {
   "cell_type": "code",
   "execution_count": 21,
   "metadata": {},
   "outputs": [
    {
     "data": {
      "application/octet-stream": null,
      "text/iclojure-html": [
       "<ul><li class=vector>[<ul><li class='misc'>1<li class=space> <li class='misc'>2<li class=space> <li class='misc'>3<li class=space> <li class='misc'>4<li class=space> <li class='misc'>5<li class=space> <li class='misc'>10<li class=trail>]</ul></ul>"
      ],
      "text/plain": [
       "\u001b[2m[\u001b[22m1 2 3 4 5 10\u001b[2m]\u001b[22m\n"
      ]
     },
     "execution_count": 21,
     "metadata": {},
     "output_type": "execute_result"
    }
   ],
   "source": [
    "(conj temp-vector 10)"
   ]
  },
  {
   "cell_type": "code",
   "execution_count": 22,
   "metadata": {},
   "outputs": [
    {
     "data": {
      "application/octet-stream": null,
      "text/iclojure-html": [
       "<ul><li class=seq>(<ul><li class='misc'>10<li class=space> <li class='misc'>6<li class=space> <li class='misc'>7<li class=space> <li class='misc'>8<li class=space> <li class='misc'>9<li class=space> <li class='misc'>0<li class=trail>)</ul></ul>"
      ],
      "text/plain": [
       "\u001b[2m(\u001b[22m10 6 7 8 9 0\u001b[2m)\u001b[22m\n"
      ]
     },
     "execution_count": 22,
     "metadata": {},
     "output_type": "execute_result"
    }
   ],
   "source": [
    "(conj temp-list 10)"
   ]
  },
  {
   "cell_type": "markdown",
   "metadata": {},
   "source": [
    "Runtime Polymorphism"
   ]
  },
  {
   "cell_type": "code",
   "execution_count": 19,
   "metadata": {},
   "outputs": [
    {
     "data": {
      "application/octet-stream": null,
      "text/iclojure-html": [
       "<ul><li class='misc'>true</ul>"
      ],
      "text/plain": [
       "true\n"
      ]
     },
     "execution_count": 19,
     "metadata": {},
     "output_type": "execute_result"
    }
   ],
   "source": [
    "(coll? temp-vector)"
   ]
  },
  {
   "cell_type": "code",
   "execution_count": 20,
   "metadata": {},
   "outputs": [
    {
     "data": {
      "application/octet-stream": null,
      "text/iclojure-html": [
       "<ul><li class='misc'>true</ul>"
      ],
      "text/plain": [
       "true\n"
      ]
     },
     "execution_count": 20,
     "metadata": {},
     "output_type": "execute_result"
    }
   ],
   "source": [
    "(coll? temp-list)"
   ]
  },
  {
   "cell_type": "code",
   "execution_count": 28,
   "metadata": {},
   "outputs": [
    {
     "data": {
      "application/octet-stream": null,
      "text/iclojure-html": [
       "<ul><li class='misc'>false</ul>"
      ],
      "text/plain": [
       "false\n"
      ]
     },
     "execution_count": 28,
     "metadata": {},
     "output_type": "execute_result"
    }
   ],
   "source": [
    "(seq? temp-vector)"
   ]
  },
  {
   "cell_type": "code",
   "execution_count": 29,
   "metadata": {},
   "outputs": [
    {
     "data": {
      "application/octet-stream": null,
      "text/iclojure-html": [
       "<ul><li class='misc'>true</ul>"
      ],
      "text/plain": [
       "true\n"
      ]
     },
     "execution_count": 29,
     "metadata": {},
     "output_type": "execute_result"
    }
   ],
   "source": [
    "(seq? temp-list)"
   ]
  },
  {
   "cell_type": "markdown",
   "metadata": {},
   "source": [
    "Polymorphism"
   ]
  },
  {
   "cell_type": "code",
   "execution_count": 30,
   "metadata": {},
   "outputs": [
    {
     "data": {
      "application/octet-stream": null,
      "text/iclojure-html": [
       "<ul><li class='misc'>6</ul>"
      ],
      "text/plain": [
       "6\n"
      ]
     },
     "execution_count": 30,
     "metadata": {},
     "output_type": "execute_result"
    }
   ],
   "source": [
    "(first temp-list)"
   ]
  },
  {
   "cell_type": "code",
   "execution_count": 32,
   "metadata": {},
   "outputs": [
    {
     "data": {
      "application/octet-stream": null,
      "text/iclojure-html": [
       "<ul><li class='misc'>1</ul>"
      ],
      "text/plain": [
       "1\n"
      ]
     },
     "execution_count": 32,
     "metadata": {},
     "output_type": "execute_result"
    }
   ],
   "source": [
    "(first temp-vector)"
   ]
  },
  {
   "cell_type": "markdown",
   "metadata": {},
   "source": [
    "## State Management"
   ]
  },
  {
   "cell_type": "code",
   "execution_count": 34,
   "metadata": {},
   "outputs": [
    {
     "data": {
      "text/iclojure-html": [
       "<ul><li class=browsable><ul><li class=var>#'user/state<li class=browser><li class=elision data-expr='(unrepl.repl$p8QhJwTpu2S19yqqZbyXWLOYcI8/fetch :G__1118)'>…</ul></ul>"
      ],
      "text/plain": [
       "#unrepl/browsable \u001b[2m[\u001b[22m#'user/state \u001b[4m/13\u001b[m\u001b[2m]\u001b[22m\n"
      ]
     },
     "execution_count": 34,
     "metadata": {},
     "output_type": "execute_result"
    }
   ],
   "source": [
    "(def state (atom 5))"
   ]
  },
  {
   "cell_type": "code",
   "execution_count": 42,
   "metadata": {},
   "outputs": [
    {
     "data": {
      "application/octet-stream": null,
      "text/iclojure-html": [
       "<ul><li class=seq>(<ul><li class=keyword>:player1<li class=trail>)</ul></ul>"
      ],
      "text/plain": [
       "\u001b[2m(\u001b[22m\u001b[36m:player1\u001b[m\u001b[2m)\u001b[22m\n"
      ]
     },
     "execution_count": 42,
     "metadata": {},
     "output_type": "execute_result"
    }
   ],
   "source": [
    "(def players (atom ()))\n",
    "(swap! players conj :player1)"
   ]
  },
  {
   "cell_type": "markdown",
   "metadata": {},
   "source": [
    "only use when "
   ]
  },
  {
   "cell_type": "code",
   "execution_count": 43,
   "metadata": {},
   "outputs": [
    {
     "data": {
      "application/octet-stream": null,
      "text/iclojure-html": [
       "<ul><li class=seq>(<ul><li class=keyword>:player2<li class=space> <li class=keyword>:player1<li class=trail>)</ul></ul>"
      ],
      "text/plain": [
       "\u001b[2m(\u001b[22m\u001b[36m:player2\u001b[m \u001b[36m:player1\u001b[m\u001b[2m)\u001b[22m\n"
      ]
     },
     "execution_count": 43,
     "metadata": {},
     "output_type": "execute_result"
    }
   ],
   "source": [
    "(swap! players conj :player2)"
   ]
  },
  {
   "cell_type": "markdown",
   "metadata": {},
   "source": [
    "replace the entire contents of a atom"
   ]
  },
  {
   "cell_type": "code",
   "execution_count": 51,
   "metadata": {},
   "outputs": [
    {
     "data": {
      "application/octet-stream": null,
      "text/iclojure-html": [
       "<ul><li class=keyword>:player3</ul>"
      ],
      "text/plain": [
       "\u001b[36m:player3\u001b[m\n"
      ]
     },
     "execution_count": 51,
     "metadata": {},
     "output_type": "execute_result"
    }
   ],
   "source": [
    "(reset! players :player3)"
   ]
  },
  {
   "cell_type": "code",
   "execution_count": 52,
   "metadata": {},
   "outputs": [
    {
     "data": {
      "application/octet-stream": null,
      "text/iclojure-html": [
       "<ul><li class=keyword>:player3</ul>"
      ],
      "text/plain": [
       "\u001b[36m:player3\u001b[m\n"
      ]
     },
     "execution_count": 52,
     "metadata": {},
     "output_type": "execute_result"
    }
   ],
   "source": [
    "(deref players)"
   ]
  },
  {
   "cell_type": "code",
   "execution_count": 53,
   "metadata": {},
   "outputs": [
    {
     "data": {
      "application/octet-stream": null,
      "text/iclojure-html": [
       "<ul><li class=keyword>:player3</ul>"
      ],
      "text/plain": [
       "\u001b[36m:player3\u001b[m\n"
      ]
     },
     "execution_count": 53,
     "metadata": {},
     "output_type": "execute_result"
    }
   ],
   "source": [
    "@players"
   ]
  },
  {
   "cell_type": "code",
   "execution_count": 4,
   "metadata": {},
   "outputs": [
    {
     "ename": "Oops",
     "evalue": "",
     "output_type": "error",
     "traceback": [
      "Exception while doing something unexpected.",
      "#unrepl/browsable\n  \u001b[2m[\u001b[22m\u001b[31m#error\u001b[m\n     \u001b[2m{\u001b[22m\u001b[36m:via\u001b[m \u001b[2m[\u001b[22m\u001b[2m{\u001b[22m\u001b[36m:type\u001b[m clojure.lang.Compiler$CompilerException\u001b[2m,\u001b[22m\n             \u001b[36m:message\u001b[m \"Syntax error compiling at (unrepl-reader-749:1:1).\"\u001b[2m,\u001b[22m\n             \u001b[36m:data\u001b[m \u001b[2m{\u001b[22m\u001b[36m:clojure.error/phase\u001b[m \u001b[36m:compile-syntax-check\u001b[m\u001b[2m,\u001b[22m\n                    \u001b[36m:clojure.error/line\u001b[m 1\u001b[2m,\u001b[22m \u001b[36m:clojure.error/column\u001b[m 1\u001b[2m,\u001b[22m\n                    \u001b[36m:clojure.error/source\u001b[m \"unrepl-reader-749\"\u001b[2m}\u001b[22m\u001b[2m,\u001b[22m\n             \u001b[36m:at\u001b[m \u001b[2m[\u001b[22mclojure.lang.Compiler analyze \"Compiler.java\" 6808\u001b[2m]\u001b[22m\u001b[2m}\u001b[22m\n            \u001b[2m{\u001b[22m\u001b[36m:type\u001b[m java.lang.RuntimeException\u001b[2m,\u001b[22m\n             \u001b[36m:message\u001b[m \"Unable to resolve symbol: dir in this context\"\u001b[2m,\u001b[22m\n             \u001b[36m:at\u001b[m \u001b[2m[\u001b[22mclojure.lang.Util runtimeException \"Util.java\" 221\u001b[2m]\u001b[22m\u001b[2m}\u001b[22m\u001b[2m]\u001b[22m\u001b[2m,\u001b[22m\n      \u001b[36m:trace\u001b[m \u001b[2m[\u001b[22m\u001b[2m[\u001b[22mclojure.lang.Util runtimeException \"Util.java\" 221\u001b[2m]\u001b[22m\n              \u001b[2m[\u001b[22mclojure.lang.Compiler resolveIn \"Compiler.java\" 7413\u001b[2m]\u001b[22m\n              \u001b[2m[\u001b[22mclojure.lang.Compiler resolve \"Compiler.java\" 7357\u001b[2m]\u001b[22m\n              \u001b[2m[\u001b[22mclojure.lang.Compiler analyzeSymbol \"Compiler.java\" 7318\u001b[2m]\u001b[22m\n              \u001b[2m[\u001b[22mclojure.lang.Compiler analyze \"Compiler.java\" 6768\u001b[2m]\u001b[22m\n              \u001b[2m[\u001b[22mclojure.lang.Compiler analyze \"Compiler.java\" 6745\u001b[2m]\u001b[22m\n              \u001b[2m[\u001b[22mclojure.lang.Compiler$InvokeExpr parse \"Compiler.java\" 3820\u001b[2m]\u001b[22m\n              \u001b[2m[\u001b[22mclojure.lang.Compiler analyzeSeq \"Compiler.java\" 7108\u001b[2m]\u001b[22m \u001b[4m/7\u001b[m\u001b[2m]\u001b[22m\u001b[2m,\u001b[22m\n      \u001b[4m/8\u001b[m\u001b[2m}\u001b[22m\n   \u001b[4m/9\u001b[m\u001b[2m]\u001b[22m\n"
     ]
    }
   ],
   "source": [
    "(dir browsable)"
   ]
  },
  {
   "cell_type": "code",
   "execution_count": 5,
   "metadata": {},
   "outputs": [
    {
     "ename": "Oops",
     "evalue": "",
     "output_type": "error",
     "traceback": [
      "Exception while doing something unexpected.",
      "#unrepl/browsable\n  \u001b[2m[\u001b[22m\u001b[31m#error\u001b[m\n     \u001b[2m{\u001b[22m\u001b[36m:via\u001b[m \u001b[2m[\u001b[22m\u001b[2m{\u001b[22m\u001b[36m:type\u001b[m clojure.lang.Compiler$CompilerException\u001b[2m,\u001b[22m\n             \u001b[36m:message\u001b[m \"Syntax error compiling at (unrepl-reader-749:1:1).\"\u001b[2m,\u001b[22m\n             \u001b[36m:data\u001b[m \u001b[2m{\u001b[22m\u001b[36m:clojure.error/phase\u001b[m \u001b[36m:compile-syntax-check\u001b[m\u001b[2m,\u001b[22m\n                    \u001b[36m:clojure.error/line\u001b[m 1\u001b[2m,\u001b[22m \u001b[36m:clojure.error/column\u001b[m 1\u001b[2m,\u001b[22m\n                    \u001b[36m:clojure.error/source\u001b[m \"unrepl-reader-749\"\u001b[2m}\u001b[22m\u001b[2m,\u001b[22m\n             \u001b[36m:at\u001b[m \u001b[2m[\u001b[22mclojure.lang.Compiler analyze \"Compiler.java\" 6808\u001b[2m]\u001b[22m\u001b[2m}\u001b[22m\n            \u001b[2m{\u001b[22m\u001b[36m:type\u001b[m java.lang.RuntimeException\u001b[2m,\u001b[22m\n             \u001b[36m:message\u001b[m \"Unable to resolve symbol: dir in this context\"\u001b[2m,\u001b[22m\n             \u001b[36m:at\u001b[m \u001b[2m[\u001b[22mclojure.lang.Util runtimeException \"Util.java\" 221\u001b[2m]\u001b[22m\u001b[2m}\u001b[22m\u001b[2m]\u001b[22m\u001b[2m,\u001b[22m\n      \u001b[36m:trace\u001b[m \u001b[2m[\u001b[22m\u001b[2m[\u001b[22mclojure.lang.Util runtimeException \"Util.java\" 221\u001b[2m]\u001b[22m\n              \u001b[2m[\u001b[22mclojure.lang.Compiler resolveIn \"Compiler.java\" 7413\u001b[2m]\u001b[22m\n              \u001b[2m[\u001b[22mclojure.lang.Compiler resolve \"Compiler.java\" 7357\u001b[2m]\u001b[22m\n              \u001b[2m[\u001b[22mclojure.lang.Compiler analyzeSymbol \"Compiler.java\" 7318\u001b[2m]\u001b[22m\n              \u001b[2m[\u001b[22mclojure.lang.Compiler analyze \"Compiler.java\" 6768\u001b[2m]\u001b[22m\n              \u001b[2m[\u001b[22mclojure.lang.Compiler analyze \"Compiler.java\" 6745\u001b[2m]\u001b[22m\n              \u001b[2m[\u001b[22mclojure.lang.Compiler$InvokeExpr parse \"Compiler.java\" 3820\u001b[2m]\u001b[22m\n              \u001b[2m[\u001b[22mclojure.lang.Compiler analyzeSeq \"Compiler.java\" 7108\u001b[2m]\u001b[22m \u001b[4m/10\u001b[m\u001b[2m]\u001b[22m\u001b[2m,\u001b[22m\n      \u001b[4m/11\u001b[m\u001b[2m}\u001b[22m\n   \u001b[4m/12\u001b[m\u001b[2m]\u001b[22m\n"
     ]
    }
   ],
   "source": [
    "(dir clojure.string)"
   ]
  },
  {
   "cell_type": "code",
   "execution_count": 7,
   "metadata": {},
   "outputs": [
    {
     "data": {
      "application/octet-stream": null,
      "text/iclojure-html": [
       "<ul><li class='misc'>-1</ul>"
      ],
      "text/plain": [
       "-1\n"
      ]
     },
     "execution_count": 7,
     "metadata": {},
     "output_type": "execute_result"
    }
   ],
   "source": [
    "(- 10 (+ 5 6))"
   ]
  },
  {
   "cell_type": "code",
   "execution_count": null,
   "metadata": {},
   "outputs": [],
   "source": []
  }
 ],
 "metadata": {
  "kernelspec": {
   "display_name": "IClojure",
   "language": "iclojure",
   "name": "iclojure"
  },
  "language_info": {
   "file_extension": ".clj",
   "mimetype": "text/x-clojure",
   "name": "clojure",
   "version": "1.10.0"
  }
 },
 "nbformat": 4,
 "nbformat_minor": 4
}
